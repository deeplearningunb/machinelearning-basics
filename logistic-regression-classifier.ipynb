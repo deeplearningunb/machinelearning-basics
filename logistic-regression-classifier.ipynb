{
 "cells": [
  {
   "cell_type": "markdown",
   "metadata": {},
   "source": [
    "# Classification template\n",
    "\n",
    "## Importing the libraries"
   ]
  },
  {
   "cell_type": "code",
   "execution_count": 1,
   "metadata": {},
   "outputs": [
    {
     "name": "stdout",
     "output_type": "stream",
     "text": [
      "Requirement already satisfied: tensorflow==1.13.1 in /home/madeus/anaconda3/envs/dl3.7/lib/python3.7/site-packages (from -r requirements.txt (line 1)) (1.13.1)\r\n",
      "Requirement already satisfied: numpy==1.16.2 in /home/madeus/anaconda3/envs/dl3.7/lib/python3.7/site-packages (from -r requirements.txt (line 2)) (1.16.2)\r\n",
      "Requirement already satisfied: pandas==0.24.2 in /home/madeus/anaconda3/envs/dl3.7/lib/python3.7/site-packages (from -r requirements.txt (line 3)) (0.24.2)\r\n",
      "Requirement already satisfied: matplotlib==3.0.3 in /home/madeus/anaconda3/envs/dl3.7/lib/python3.7/site-packages (from -r requirements.txt (line 4)) (3.0.3)\r\n",
      "Requirement already satisfied: Keras==2.2.4 in /home/madeus/anaconda3/envs/dl3.7/lib/python3.7/site-packages (from -r requirements.txt (line 5)) (2.2.4)\r\n",
      "Requirement already satisfied: scikit-learn in /home/madeus/anaconda3/envs/dl3.7/lib/python3.7/site-packages (from -r requirements.txt (line 6)) (0.23.2)\r\n",
      "Requirement already satisfied: scipy>=0.14 in /home/madeus/anaconda3/envs/dl3.7/lib/python3.7/site-packages (from Keras==2.2.4->-r requirements.txt (line 5)) (1.5.2)\r\n",
      "Requirement already satisfied: six>=1.9.0 in /home/madeus/anaconda3/envs/dl3.7/lib/python3.7/site-packages (from Keras==2.2.4->-r requirements.txt (line 5)) (1.15.0)\r\n",
      "Requirement already satisfied: pyyaml in /home/madeus/anaconda3/envs/dl3.7/lib/python3.7/site-packages (from Keras==2.2.4->-r requirements.txt (line 5)) (5.4.1)\r\n",
      "Requirement already satisfied: h5py in /home/madeus/anaconda3/envs/dl3.7/lib/python3.7/site-packages (from Keras==2.2.4->-r requirements.txt (line 5)) (2.10.0)\r\n",
      "Requirement already satisfied: keras_applications>=1.0.6 in /home/madeus/anaconda3/envs/dl3.7/lib/python3.7/site-packages (from Keras==2.2.4->-r requirements.txt (line 5)) (1.0.8)\r\n",
      "Requirement already satisfied: keras_preprocessing>=1.0.5 in /home/madeus/anaconda3/envs/dl3.7/lib/python3.7/site-packages (from Keras==2.2.4->-r requirements.txt (line 5)) (1.1.2)\r\n",
      "Requirement already satisfied: cycler>=0.10 in /home/madeus/anaconda3/envs/dl3.7/lib/python3.7/site-packages (from matplotlib==3.0.3->-r requirements.txt (line 4)) (0.10.0)\r\n",
      "Requirement already satisfied: kiwisolver>=1.0.1 in /home/madeus/anaconda3/envs/dl3.7/lib/python3.7/site-packages (from matplotlib==3.0.3->-r requirements.txt (line 4)) (1.3.1)\r\n",
      "Requirement already satisfied: pyparsing!=2.0.4,!=2.1.2,!=2.1.6,>=2.0.1 in /home/madeus/anaconda3/envs/dl3.7/lib/python3.7/site-packages (from matplotlib==3.0.3->-r requirements.txt (line 4)) (2.4.7)\r\n",
      "Requirement already satisfied: python-dateutil>=2.1 in /home/madeus/anaconda3/envs/dl3.7/lib/python3.7/site-packages (from matplotlib==3.0.3->-r requirements.txt (line 4)) (2.8.1)\r\n",
      "Requirement already satisfied: pytz>=2011k in /home/madeus/anaconda3/envs/dl3.7/lib/python3.7/site-packages (from pandas==0.24.2->-r requirements.txt (line 3)) (2021.1)\r\n",
      "Requirement already satisfied: wheel>=0.26 in /home/madeus/anaconda3/envs/dl3.7/lib/python3.7/site-packages (from tensorflow==1.13.1->-r requirements.txt (line 1)) (0.36.2)\r\n",
      "Requirement already satisfied: grpcio>=1.8.6 in /home/madeus/anaconda3/envs/dl3.7/lib/python3.7/site-packages (from tensorflow==1.13.1->-r requirements.txt (line 1)) (1.36.1)\r\n",
      "Requirement already satisfied: termcolor>=1.1.0 in /home/madeus/anaconda3/envs/dl3.7/lib/python3.7/site-packages (from tensorflow==1.13.1->-r requirements.txt (line 1)) (1.1.0)\r\n",
      "Requirement already satisfied: tensorboard<1.14.0,>=1.13.0 in /home/madeus/anaconda3/envs/dl3.7/lib/python3.7/site-packages (from tensorflow==1.13.1->-r requirements.txt (line 1)) (1.13.1)\r\n",
      "Requirement already satisfied: astor>=0.6.0 in /home/madeus/anaconda3/envs/dl3.7/lib/python3.7/site-packages (from tensorflow==1.13.1->-r requirements.txt (line 1)) (0.8.1)\r\n",
      "Requirement already satisfied: gast>=0.2.0 in /home/madeus/anaconda3/envs/dl3.7/lib/python3.7/site-packages (from tensorflow==1.13.1->-r requirements.txt (line 1)) (0.4.0)\r\n",
      "Requirement already satisfied: absl-py>=0.1.6 in /home/madeus/anaconda3/envs/dl3.7/lib/python3.7/site-packages (from tensorflow==1.13.1->-r requirements.txt (line 1)) (0.11.0)\r\n",
      "Requirement already satisfied: tensorflow-estimator<1.14.0rc0,>=1.13.0 in /home/madeus/anaconda3/envs/dl3.7/lib/python3.7/site-packages (from tensorflow==1.13.1->-r requirements.txt (line 1)) (1.13.0)\r\n",
      "Requirement already satisfied: protobuf>=3.6.1 in /home/madeus/anaconda3/envs/dl3.7/lib/python3.7/site-packages (from tensorflow==1.13.1->-r requirements.txt (line 1)) (3.14.0)\r\n",
      "Requirement already satisfied: markdown>=2.6.8 in /home/madeus/anaconda3/envs/dl3.7/lib/python3.7/site-packages (from tensorboard<1.14.0,>=1.13.0->tensorflow==1.13.1->-r requirements.txt (line 1)) (3.3.4)\r\n",
      "Requirement already satisfied: werkzeug>=0.11.15 in /home/madeus/anaconda3/envs/dl3.7/lib/python3.7/site-packages (from tensorboard<1.14.0,>=1.13.0->tensorflow==1.13.1->-r requirements.txt (line 1)) (1.0.1)\r\n",
      "Requirement already satisfied: importlib-metadata in /home/madeus/anaconda3/envs/dl3.7/lib/python3.7/site-packages (from markdown>=2.6.8->tensorboard<1.14.0,>=1.13.0->tensorflow==1.13.1->-r requirements.txt (line 1)) (2.0.0)\r\n",
      "Requirement already satisfied: threadpoolctl>=2.0.0 in /home/madeus/anaconda3/envs/dl3.7/lib/python3.7/site-packages (from scikit-learn->-r requirements.txt (line 6)) (2.1.0)\r\n",
      "Requirement already satisfied: joblib>=0.11 in /home/madeus/anaconda3/envs/dl3.7/lib/python3.7/site-packages (from scikit-learn->-r requirements.txt (line 6)) (1.0.1)\r\n",
      "Requirement already satisfied: zipp>=0.5 in /home/madeus/anaconda3/envs/dl3.7/lib/python3.7/site-packages (from importlib-metadata->markdown>=2.6.8->tensorboard<1.14.0,>=1.13.0->tensorflow==1.13.1->-r requirements.txt (line 1)) (3.4.0)\r\n"
     ]
    }
   ],
   "source": [
    "!pip install -r requirements.txt"
   ]
  },
  {
   "cell_type": "code",
   "execution_count": 2,
   "metadata": {},
   "outputs": [],
   "source": [
    "import numpy as np\n",
    "import matplotlib.pyplot as plt\n",
    "import pandas as pd"
   ]
  },
  {
   "cell_type": "markdown",
   "metadata": {},
   "source": [
    "## Data Pre-Processing\n",
    "### Importing the dataset"
   ]
  },
  {
   "cell_type": "code",
   "execution_count": 3,
   "metadata": {},
   "outputs": [],
   "source": [
    "dataset = pd.read_csv('Social_Network_Ads.csv')\n",
    "X = dataset.iloc[:, [2, 3]].values\n",
    "y = dataset.iloc[:, 4].values"
   ]
  },
  {
   "cell_type": "markdown",
   "metadata": {},
   "source": [
    "### Splitting the dataset into the Training set and Test set"
   ]
  },
  {
   "cell_type": "code",
   "execution_count": 4,
   "metadata": {},
   "outputs": [],
   "source": [
    "from sklearn.model_selection import train_test_split\n",
    "X_train, X_test, y_train, y_test = train_test_split(X, y, test_size = 0.25, random_state = 0)"
   ]
  },
  {
   "cell_type": "markdown",
   "metadata": {},
   "source": [
    "### Feature Scaling"
   ]
  },
  {
   "cell_type": "code",
   "execution_count": 5,
   "metadata": {},
   "outputs": [],
   "source": [
    "from sklearn.preprocessing import StandardScaler\n",
    "sc = StandardScaler()\n",
    "X_train = sc.fit_transform(X_train)\n",
    "X_test = sc.transform(X_test)"
   ]
  },
  {
   "cell_type": "markdown",
   "metadata": {},
   "source": [
    "## Fitting classifier to the Training set"
   ]
  },
  {
   "cell_type": "code",
   "execution_count": 6,
   "metadata": {},
   "outputs": [],
   "source": [
    "from sklearn.linear_model import PassiveAggressiveClassifier\n",
    "classifier = PassiveAggressiveClassifier(random_state = 0)\n",
    "classifier.fit(X_train,y_train)\n",
    "# Predicting the Test set results\n",
    "y_pred = classifier.predict(X_test)"
   ]
  },
  {
   "cell_type": "markdown",
   "metadata": {},
   "source": [
    "# Making the Confusion Matrix\n"
   ]
  },
  {
   "cell_type": "code",
   "execution_count": 7,
   "metadata": {},
   "outputs": [],
   "source": [
    "from sklearn.metrics import confusion_matrix\n",
    "cm = confusion_matrix(y_test, y_pred)"
   ]
  },
  {
   "cell_type": "code",
   "execution_count": 8,
   "metadata": {},
   "outputs": [
    {
     "name": "stdout",
     "output_type": "stream",
     "text": [
      "[[53 15]\n",
      " [ 1 31]]\n"
     ]
    }
   ],
   "source": [
    "print(cm)"
   ]
  },
  {
   "cell_type": "markdown",
   "metadata": {},
   "source": [
    "# Visualising\n",
    "\n",
    "## Training set results\n"
   ]
  },
  {
   "cell_type": "code",
   "execution_count": 9,
   "metadata": {},
   "outputs": [
    {
     "name": "stderr",
     "output_type": "stream",
     "text": [
      "'c' argument looks like a single numeric RGB or RGBA sequence, which should be avoided as value-mapping will have precedence in case its length matches with 'x' & 'y'.  Please use a 2-D array with a single row if you really want to specify the same RGB or RGBA value for all points.\n",
      "'c' argument looks like a single numeric RGB or RGBA sequence, which should be avoided as value-mapping will have precedence in case its length matches with 'x' & 'y'.  Please use a 2-D array with a single row if you really want to specify the same RGB or RGBA value for all points.\n"
     ]
    },
    {
     "data": {
      "text/plain": "<Figure size 432x288 with 1 Axes>",
      "image/png": "[encoded data removed]"
     },
     "metadata": {
      "needs_background": "light"
     },
     "output_type": "display_data"
    }
   ],
   "source": [
    "from matplotlib.colors import ListedColormap\n",
    "X_set, y_set = X_train, y_train\n",
    "X1, X2 = np.meshgrid(np.arange(start = X_set[:, 0].min() - 1, stop = X_set[:, 0].max() + 1, step = 0.01),\n",
    "                     np.arange(start = X_set[:, 1].min() - 1, stop = X_set[:, 1].max() + 1, step = 0.01))\n",
    "plt.contourf(X1, X2, classifier.predict(np.array([X1.ravel(), X2.ravel()]).T).reshape(X1.shape),\n",
    "             alpha = 0.75, cmap = ListedColormap(('pink', 'lightgreen')))\n",
    "plt.xlim(X1.min(), X1.max())\n",
    "plt.ylim(X2.min(), X2.max())\n",
    "for i, j in enumerate(np.unique(y_set)):\n",
    "    plt.scatter(X_set[y_set == j, 0], X_set[y_set == j, 1],\n",
    "                c = ListedColormap(('red', 'green'))(i), label = j)\n",
    "plt.title('Classifier (Training set)')\n",
    "plt.xlabel('Age')\n",
    "plt.ylabel('Estimated Salary')\n",
    "plt.legend()\n",
    "plt.show()"
   ]
  },
  {
   "cell_type": "markdown",
   "metadata": {},
   "source": [
    "## Test set results"
   ]
  },
  {
   "cell_type": "code",
   "execution_count": 10,
   "metadata": {},
   "outputs": [
    {
     "name": "stderr",
     "output_type": "stream",
     "text": [
      "'c' argument looks like a single numeric RGB or RGBA sequence, which should be avoided as value-mapping will have precedence in case its length matches with 'x' & 'y'.  Please use a 2-D array with a single row if you really want to specify the same RGB or RGBA value for all points.\n",
      "'c' argument looks like a single numeric RGB or RGBA sequence, which should be avoided as value-mapping will have precedence in case its length matches with 'x' & 'y'.  Please use a 2-D array with a single row if you really want to specify the same RGB or RGBA value for all points.\n"
     ]
    },
    {
     "data": {
      "text/plain": "<Figure size 432x288 with 1 Axes>",
      "image/png": "[encoded data removed]"
     },
     "metadata": {
      "needs_background": "light"
     },
     "output_type": "display_data"
    }
   ],
   "source": [
    "from matplotlib.colors import ListedColormap\n",
    "X_set, y_set = X_test, y_test\n",
    "X1, X2 = np.meshgrid(np.arange(start = X_set[:, 0].min() - 1, stop = X_set[:, 0].max() + 1, step = 0.01),\n",
    "                     np.arange(start = X_set[:, 1].min() - 1, stop = X_set[:, 1].max() + 1, step = 0.01))\n",
    "plt.contourf(X1, X2, classifier.predict(np.array([X1.ravel(), X2.ravel()]).T).reshape(X1.shape),\n",
    "             alpha = 0.75, cmap = ListedColormap(('pink', 'lightgreen')))\n",
    "plt.xlim(X1.min(), X1.max())\n",
    "plt.ylim(X2.min(), X2.max())\n",
    "for i, j in enumerate(np.unique(y_set)):\n",
    "    plt.scatter(X_set[y_set == j, 0], X_set[y_set == j, 1],\n",
    "                c = ListedColormap(('red', 'green'))(i), label = j)\n",
    "plt.title('Classifier (Test set)')\n",
    "plt.xlabel('Age')\n",
    "plt.ylabel('Estimated Salary')\n",
    "plt.legend()\n",
    "plt.show()"
   ]
  },
  {
   "cell_type": "markdown",
   "metadata": {},
   "source": [
    "# Awesome!"
   ]
  },
  {
   "cell_type": "markdown",
   "metadata": {},
   "source": [
    "### Credits\n",
    "based on superdatascience.com Machine Learning A-Z, by Kirill Eremenko and Hadelin de Ponteves. Thanks For sharing the knowleged!"
   ]
  },
  {
   "cell_type": "code",
   "execution_count": 10,
   "metadata": {},
   "outputs": [],
   "source": []
  }
 ],
 "metadata": {
  "kernelspec": {
   "display_name": "Python 3",
   "language": "python",
   "name": "python3"
  },
  "language_info": {
   "codemirror_mode": {
    "name": "ipython",
    "version": 3
   },
   "file_extension": ".py",
   "mimetype": "text/x-python",
   "name": "python",
   "nbconvert_exporter": "python",
   "pygments_lexer": "ipython3",
   "version": "3.7.3"
  }
 },
 "nbformat": 4,
 "nbformat_minor": 2
}